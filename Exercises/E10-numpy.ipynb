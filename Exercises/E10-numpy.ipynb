{
 "cells": [
  {
   "cell_type": "markdown",
   "metadata": {},
   "source": [
    "<a href=\"https://colab.research.google.com/github/pr0fez/AI24-Programmering/blob/master/Exercises/E10-numpy.ipynb\" target=\"_parent\"><img align=\"left\" src=\"https://colab.research.google.com/assets/colab-badge.svg\" alt=\"Open In Colab\"/></a> &nbsp; to see hints and answers."
   ]
  },
  {
   "cell_type": "markdown",
   "metadata": {},
   "source": [
    "# Numpy exercises\n",
    "\n",
    "---\n",
    "These are introductory exercises in Python with focus in **Numpy**.\n",
    "\n",
    "<p class = \"alert alert-info\" role=\"alert\"><b>Remember</b> to use <b>descriptive variable names</b> in order to get readable code </p>\n",
    "\n",
    "<p class = \"alert alert-info\" role=\"alert\"><b>Remember</b> to format your answers in a neat way using <b>f-strings</b>\n",
    "\n",
    "<p class = \"alert alert-info\" role=\"alert\"><b>Remember</b> to format your input questions in a pedagogical way to guide the user\n",
    "\n",
    "The number of stars (\\*), (\\*\\*), (\\*\\*\\*) denotes the difficulty level of the task\n",
    "\n",
    "---"
   ]
  },
  {
   "cell_type": "markdown",
   "metadata": {},
   "source": [
    "## 1. Dice simulations (*)\n",
    "\n",
    "Simulations of one die,  \n",
    "\n",
    "&nbsp; a) Calculate theoretical mean of a dice (six-sided) (*)\n",
    "\n",
    "&nbsp; b) Now do simulations of\n",
    "\n",
    "- 10\n",
    "- 100\n",
    "- 1000\n",
    "- 10000\n",
    "- 100000\n",
    "- 1000000\n",
    "- 10000000\n",
    "\n",
    "number of dices and plot their means. (*)\n",
    "\n",
    "<details>\n",
    "\n",
    "<summary>Answer </summary>\n",
    "\n",
    "a)\n",
    "```\n",
    "3.5\n",
    "```\n",
    "\n",
    "b) \n",
    "\n",
    "<img src=\"../assets/numpy_1b.png\" width = 300>\n",
    "\n",
    "</details>\n",
    "\n",
    "\n"
   ]
  },
  {
   "cell_type": "code",
   "execution_count": 17,
   "metadata": {},
   "outputs": [
    {
     "name": "stdout",
     "output_type": "stream",
     "text": [
      "3.5\n"
     ]
    },
    {
     "data": {
      "image/png": "[encoded data removed]",
      "text/plain": [
       "<Figure size 640x480 with 1 Axes>"
      ]
     },
     "metadata": {},
     "output_type": "display_data"
    }
   ],
   "source": [
    "import numpy as np\n",
    "import matplotlib.pyplot as plt\n",
    "\n",
    "a = (1+2+3+4+5+6) / 6\n",
    "print(a)\n",
    "\n",
    "def sims(size):\n",
    "    num = np.random.randint(1,6, size=size)\n",
    "    return num.mean()\n",
    "\n",
    "means = list()\n",
    "for size in (10**i for i in range(1,8)):\n",
    "    means.append(sims(size))\n",
    "\n",
    "plt.bar(np.arange(len(means)), means)\n",
    "xlabels = [\"10\",\"100\",\"1000\",\"10000\",\"100000\",\"1000000\",\"10000000\"]\n",
    "#plt.xticks(1,\"hello\")\n",
    "plt.show()"
   ]
  },
  {
   "cell_type": "markdown",
   "metadata": {},
   "source": [
    "--- \n",
    "## 2. Several dices (**)\n",
    "\n",
    "&nbsp; a) Make a sample space for the sum of two dices, i.e. all possible outcomes of these dices. (*)\n",
    "\n",
    "&nbsp; b) Count the number of each values in the sample space (*)\n",
    "\n",
    "&nbsp; c) Now calculate the frequency $f_i$ for each unique value. Also check that the sum of frequencies sums to 1, i.e. $\\sum_i f_i = 1$. (*)\n",
    "\n",
    "&nbsp; d) Make a bar chart of the sum of two dices, with frequencies in y and unique values in x. This is a probability distribution of the sum of your two dices. (*)\n",
    "\n",
    "&nbsp; e) Now make barplots in subplots of sum of dices for 1 dice, 2 dices, 3 dices and 4 dices. What is the pattern that you see? (**)\n",
    "\n",
    "<details>\n",
    "\n",
    "<summary>Hint</summary>\n",
    "\n",
    "a) \n",
    "\n",
    "Here are some potentially useful methods:\n",
    "\n",
    "```py\n",
    "\n",
    "np.meshgrid(), np.add.reduce(), np.unique()\n",
    "\n",
    "```\n",
    "\n",
    "c)\n",
    "\n",
    "Divide by the total number of outcomes\n",
    "\n",
    "\n",
    "</details>\n",
    "\n",
    "<details>\n",
    "\n",
    "<summary>Answer</summary>\n",
    "\n",
    "\n",
    "a) \n",
    "\n",
    "Sample space\n",
    "\n",
    "```\n",
    "[[ 2  3  4  5  6  7]\n",
    " [ 3  4  5  6  7  8]\n",
    " [ 4  5  6  7  8  9]\n",
    " [ 5  6  7  8  9 10]\n",
    " [ 6  7  8  9 10 11]\n",
    " [ 7  8  9 10 11 12]]\n",
    "```\n",
    "\n",
    "b) \n",
    "\n",
    "Unique values:\n",
    "```\n",
    "[ 2  3  4  5  6  7  8  9 10 11 12]\n",
    "```\n",
    "\n",
    "Count: \n",
    "```\n",
    "[1 2 3 4 5 6 5 4 3 2 1]\n",
    "```\n",
    "\n",
    "c)\n",
    "\n",
    "```\n",
    "[0.028 0.056 0.083 0.111 0.139 0.167 0.139 0.111 0.083 0.056 0.028]\n",
    "```\n",
    "\n",
    "d) \n",
    "\n",
    "\n",
    "<img src=\"../assets/numpy2d.png\" width = 300>\n",
    "\n",
    "\n",
    "e) \n",
    "\n",
    "<img src=\"../assets/numpy2e.png\" width = 500>\n",
    "\n",
    "\n",
    "We see that when we sum several uniformly distributed random variables we will approach the normal distribution. This is called the central limit theorem, which we will come back to in the statistics course.\n",
    "\n",
    "</details>"
   ]
  },
  {
   "cell_type": "code",
   "execution_count": 25,
   "metadata": {},
   "outputs": [
    {
     "data": {
      "image/png": "[encoded data removed]",
      "text/plain": [
       "<Figure size 640x480 with 1 Axes>"
      ]
     },
     "metadata": {},
     "output_type": "display_data"
    }
   ],
   "source": [
    "import numpy as np\n",
    "from collections import Counter\n",
    "import matplotlib.pyplot as plt\n",
    "die = np.array([x for x in range(1,7)])\n",
    "sums = die + die\n",
    "dies = np.array([die[0:len(die)-1]])\n",
    "dies = np.insert(dies, 0, die[len(die)-1])\n",
    "sums = np.append(sums, die+dies)\n",
    "def rotate(die, dies, sums):\n",
    "    tmp = np.array([dies[0:len(dies)-1]])\n",
    "    tmp = np.insert(tmp, 0, dies[len(dies)-1])\n",
    "    sums = np.append(sums, die+tmp)\n",
    "    return tmp, sums\n",
    "while dies[0] != 1:\n",
    "    dies, sums = rotate(die, dies, sums)\n",
    "\n",
    "plt.hist(sums)\n",
    "plt.show()\n",
    "\n"
   ]
  },
  {
   "cell_type": "markdown",
   "metadata": {},
   "source": [
    "--- \n",
    "## 3. Monte Carlo simulation (**)\n",
    "\n",
    "This task has been done in earlier exercise, but now you should do this without any loops. Note that this has enormous performance gain compared to using loops. \n",
    "\n",
    "&nbsp; a) Simulate 500000 uniformly distributed points between -1 and 1, $X\\sim U(-1,1)$. Now calculate the Euclidean distances between each point and the origin (0,0), $d_i = \\sqrt{x_i^2 + y_i^2}$. For $d_i < 1$ plot the point with one color, and for $d_i > 1$ plot the point in another color, $i = \\{1,\\ldots, 500000\\}$.  (**)\n",
    "\n",
    "&nbsp; b) Calculate the fraction between number of inner points and number of outer points. What do you this will converge to when number of points reaches infinity? (**)\n",
    "\n",
    "\n",
    "<details>\n",
    "\n",
    "<summary>Hint</summary>\n",
    "\n",
    "a) \n",
    "\n",
    "Read about numpy random and see if there are some useful methods to use. Also read about \n",
    "\n",
    "```\n",
    "np.linalg.norm()\n",
    "```\n",
    "\n",
    "b)\n",
    "\n",
    "Think in terms of theoretical areas.\n",
    "\n",
    "</details>\n",
    "\n",
    "<details>\n",
    "\n",
    "<summary>Answer</summary>\n",
    "\n",
    "\n",
    "a) \n",
    "\n",
    "<img src=\"../assets/MC_simulation_500k.png\" width = 300>\n",
    "\n",
    "\n",
    "b) \n",
    "\n",
    "0.784724\n",
    "\n",
    "No answer here, try to prove it theoretically. \n",
    "\n",
    "\n",
    "</details>"
   ]
  },
  {
   "cell_type": "markdown",
   "metadata": {},
   "source": [
    "---\n",
    "\n",
    "pr0fez Giang\n",
    "\n",
    "[LinkedIn][linkedIn_pr0fez]\n",
    "\n",
    "[GitHub portfolio][github_portfolio]\n",
    "\n",
    "[linkedIn_pr0fez]: https://www.linkedin.com/in/pr0fezgiang/\n",
    "[github_portfolio]: https://github.com/pr0fez/Portfolio-pr0fez-Giang\n",
    "\n",
    "---"
   ]
  }
 ],
 "metadata": {
  "kernelspec": {
   "display_name": "Python 3.10.1 64-bit",
   "language": "python",
   "name": "python3"
  },
  "language_info": {
   "codemirror_mode": {
    "name": "ipython",
    "version": 3
   },
   "file_extension": ".py",
   "mimetype": "text/x-python",
   "name": "python",
   "nbconvert_exporter": "python",
   "pygments_lexer": "ipython3",
   "version": "3.12.3"
  },
  "orig_nbformat": 4,
  "vscode": {
   "interpreter": {
    "hash": "7e1998ff7f8aa20ada591c520b972326324e5ea05489af9e422744c7c09f6dad"
   }
  }
 },
 "nbformat": 4,
 "nbformat_minor": 2
}
